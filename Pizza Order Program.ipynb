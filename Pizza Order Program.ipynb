{
 "cells": [
  {
   "cell_type": "code",
   "execution_count": 3,
   "id": "afdd4ef6",
   "metadata": {},
   "outputs": [
    {
     "name": "stdout",
     "output_type": "stream",
     "text": [
      "Python Pizza\n",
      "Enter the size of pizza? S,M or L=L\n",
      "Do you want pepperoni? Y or N-N\n",
      "Do you want extra cheese? Y or N-Y\n",
      "Prize for large pizza is 25\n",
      "Your bill after adding extra cheese is 26\n"
     ]
    }
   ],
   "source": [
    "print(\"Python Pizza\")\n",
    "size=input(\"Enter the size of pizza? S,M or L=\")\n",
    "bill=0\n",
    "add_pepperoni=input(\"Do you want pepperoni? Y or N-\")\n",
    "extra_cheese=input(\"Do you want extra cheese? Y or N-\")\n",
    "if size==\"S\":\n",
    "    bill=15\n",
    "    print(\"Prize for small pizza is 15\")\n",
    "    if add_pepperoni==\"Y\":\n",
    "        bill+=2\n",
    "        print(f\"Your bill after adding pepperoni is {bill}\")\n",
    "    else:\n",
    "        print(f\"Your final bill is{bill}\")\n",
    "    if extra_cheese==\"Y\":\n",
    "        bill+=1\n",
    "        print(f\"Your bill after adding extra cheese is {bill}\")\n",
    "    else:\n",
    "        print(f\"Your final bill is {bill}\")\n",
    "elif size==\"M\":\n",
    "    bill=20\n",
    "    print(\"Prize for medium pizza is 20\")\n",
    "    if add_pepperoni==\"Y\":\n",
    "        bill+=3\n",
    "        print(f\"Your bill after adding pepperoni is {bill}\")\n",
    "    if extra_cheese==\"Y\":\n",
    "        bill+=1\n",
    "        print(f\"Your bill after adding extra cheese is {bill}\")\n",
    "    else:\n",
    "        print(f\"Your final bill is {bill}\")\n",
    "    \n",
    "elif size==\"L\":\n",
    "    bill=25\n",
    "    print(\"Prize for large pizza is 25\")\n",
    "    if extra_cheese==\"Y\":\n",
    "        bill+=1\n",
    "        print(f\"Your bill after adding extra cheese is {bill}\")\n",
    "    else:\n",
    "        print(f\"Your final bill is {bill}\")\n",
    "else:\n",
    "    print(\"Error\")"
   ]
  },
  {
   "cell_type": "code",
   "execution_count": null,
   "id": "221cb2a5",
   "metadata": {},
   "outputs": [],
   "source": []
  }
 ],
 "metadata": {
  "kernelspec": {
   "display_name": "Python 3 (ipykernel)",
   "language": "python",
   "name": "python3"
  },
  "language_info": {
   "codemirror_mode": {
    "name": "ipython",
    "version": 3
   },
   "file_extension": ".py",
   "mimetype": "text/x-python",
   "name": "python",
   "nbconvert_exporter": "python",
   "pygments_lexer": "ipython3",
   "version": "3.10.9"
  }
 },
 "nbformat": 4,
 "nbformat_minor": 5
}
